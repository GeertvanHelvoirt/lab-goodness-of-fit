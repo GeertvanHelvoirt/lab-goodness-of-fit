{
 "cells": [
  {
   "cell_type": "markdown",
   "metadata": {},
   "source": [
    "## Question 1\n",
    "The following table indicates the number of 6-point scores in an American rugby match in the 1979 season.\n",
    "\n",
    "![](table1.png)\n",
    "\n",
    "Based on these results, we create a Poisson distribution with the sample mean parameter  = 2.435. Is there any reason to believe that at a .05 level the number of scores is a Poisson variable?\n",
    "\n",
    "Check [here](https://www.geeksforgeeks.org/how-to-create-a-poisson-probability-mass-function-plot-in-python/) how to create a poisson distribution and how to calculate the expected observations, using the probability mass function (pmf). \n",
    "A Poisson distribution is a discrete probability distribution. It gives the probability of an event happening a certain number of times (k) within a given interval of time or space. The Poisson distribution has only one parameter, λ (lambda), which is the mean number of events."
   ]
  },
  {
   "cell_type": "code",
   "execution_count": 1,
   "metadata": {},
   "outputs": [
    {
     "name": "stdout",
     "output_type": "stream",
     "text": [
      "Chi-square statistic: 5.9675, p-value: 0.8755\n",
      "There is no reason to reject the null hypothesis. The number of scores appears to follow a Poisson distribution.\n"
     ]
    }
   ],
   "source": [
    "import numpy as np\n",
    "from scipy.stats import poisson, chi2\n",
    "\n",
    "observed_scores = np.array([35, 99, 104, 110, 62, 25, 10, 3, 1, 0, 0, 0])\n",
    "lambda_param = 2.435\n",
    "poisson_distribution = poisson(lambda_param)\n",
    "expected_scores = [poisson_distribution.pmf(k) * sum(observed_scores) for k in range(len(observed_scores))]\n",
    "chi_squared_stat = sum((observed_scores - expected_scores)**2 / expected_scores)\n",
    "degrees_of_freedom = len(observed_scores) - 1\n",
    "critical_chi_squared = 16.919\n",
    "p_value = 1 - chi2.cdf(chi_squared_stat, degrees_of_freedom)\n",
    "\n",
    "if chi_squared_stat < critical_chi_squared:\n",
    "    print(f'Chi-square statistic: {chi_squared_stat:.4f}, p-value: {p_value:.4f}')\n",
    "    print('There is no reason to reject the null hypothesis. The number of scores appears to follow a Poisson distribution.')\n",
    "else:\n",
    "    print(f'Chi-square statistic: {chi_squared_stat:.4f}, p-value: {p_value:.4f}')\n",
    "    print('There is reason to reject the null hypothesis. The number of scores may not follow a Poisson distribution.')\n"
   ]
  },
  {
   "cell_type": "markdown",
   "metadata": {},
   "source": [
    "## Question 2\n",
    "A researcher gathers information about the patterns of Physical Activity of children in the fifth grade of primary school of a public school. He defines three categories of physical activity (Low, Medium, High). He also inquires about the regular consumption of sugary drinks at school, and defines two categories (Yes = consumed, No = not consumed). We would like to evaluate if there is an association between patterns of physical activity and the consumption of sugary drinks for the children of this school, at a level of 5% significance. The results are in the following table: \n",
    "\n",
    "![](table4.png)"
   ]
  },
  {
   "cell_type": "code",
   "execution_count": 2,
   "metadata": {},
   "outputs": [
    {
     "name": "stdout",
     "output_type": "stream",
     "text": [
      "Chi-square statistic: 10.7122, p-value: 0.0047\n",
      "There is evidence to reject the null hypothesis. There is an association between patterns of physical activity and sugary drink consumption.\n"
     ]
    }
   ],
   "source": [
    "import scipy.stats as stats\n",
    "\n",
    "low_activity_yes = 32\n",
    "medium_activity_yes = 14\n",
    "high_activity_yes = 6\n",
    "low_activity_no = 12\n",
    "medium_activity_no = 22\n",
    "high_activity_no = 9\n",
    "\n",
    "observed_table = [[low_activity_yes, low_activity_no],\n",
    "                  [medium_activity_yes, medium_activity_no],\n",
    "                  [high_activity_yes, high_activity_no]]\n",
    "\n",
    "chi2_stat, p_value, dof, expected_table = stats.chi2_contingency(observed_table)\n",
    "\n",
    "if p_value < 0.05:\n",
    "    print(f'Chi-square statistic: {chi2_stat:.4f}, p-value: {p_value:.4f}')\n",
    "    print('There is evidence to reject the null hypothesis. There is an association between patterns of physical activity and sugary drink consumption.')\n",
    "else:\n",
    "    print(f'Chi-square statistic: {chi2_stat:.4f}, p-value: {p_value:.4f}')\n",
    "    print('There is no evidence to reject the null hypothesis. There may not be an association between patterns of physical activity and sugary drink consumption.')\n"
   ]
  }
 ],
 "metadata": {
  "kernelspec": {
   "display_name": "Python 3",
   "language": "python",
   "name": "python3"
  },
  "language_info": {
   "codemirror_mode": {
    "name": "ipython",
    "version": 3
   },
   "file_extension": ".py",
   "mimetype": "text/x-python",
   "name": "python",
   "nbconvert_exporter": "python",
   "pygments_lexer": "ipython3",
   "version": "3.10.9"
  }
 },
 "nbformat": 4,
 "nbformat_minor": 2
}
